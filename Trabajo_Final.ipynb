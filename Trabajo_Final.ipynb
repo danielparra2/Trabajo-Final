{
 "cells": [
  {
   "cell_type": "raw",
   "metadata": {},
   "source": [
    " /\\ ___ /\\        Integrantes:\n",
    "(  o   o  )                   Guarín Velásquez Karol Fernanda 2203026 PA1\n",
    " \\  >#<  /                        Moreno Díaz David Ricardo 2210697 PA1   \n",
    " /       \\                            Parra Parra Daniel 219102 A1  \n",
    "/         \\        \n"
   ]
  },
  {
   "cell_type": "code",
   "execution_count": 2,
   "metadata": {},
   "outputs": [],
   "source": [
    "#Librerias usadas:\n",
    "import numpy as np \n",
    "import pandas as pd \n",
    "import matplotlib.pyplot as plt\n",
    "from scipy.optimize import curve_fit\n",
    "from mpl_toolkits.mplot3d import Axes3D"
   ]
  },
  {
   "cell_type": "markdown",
   "metadata": {},
   "source": [
    "### Los objetivos del trabajo son:\n",
    "\n",
    "1. Leer los archivos csv para realizar los DataFrames\n",
    "2. Unir varios DataFrames en uno solo\n",
    "3. Realizar un resampleo para los datos en intervalos de meses, dias y minutos\n",
    "4. Evaluar las graficas con varios modelos de regresión para saber cual se ajusta mejor\n",
    "5. Conclusión"
   ]
  },
  {
   "cell_type": "markdown",
   "metadata": {},
   "source": [
    "## 1)Lectura de archivos"
   ]
  },
  {
   "cell_type": "markdown",
   "metadata": {},
   "source": [
    "Mediante el  comando pd.read_csv, se hizo la lectura de cada archivo y se convirtio en un DataFrame"
   ]
  },
  {
   "cell_type": "code",
   "execution_count": 3,
   "metadata": {},
   "outputs": [],
   "source": [
    "# usamos pd.read_csv(\"nombre del archivo\"), con esto nos lee un archivo de datos y lo convierte en Dataframe\n",
    "voltage = pd.read_csv(\"voltage.csv\")\n",
    "globalre = pd.read_csv(\"Global_reactive_power.csv\")\n",
    "globalint = pd.read_csv(\"Global_intensity.csv\")\n",
    "globalact = pd.read_csv(\"Global_active_power.csv\")"
   ]
  },
  {
   "cell_type": "markdown",
   "metadata": {},
   "source": [
    "## 2)Union de los DateFrames"
   ]
  },
  {
   "cell_type": "markdown",
   "metadata": {},
   "source": [
    "Unimos cada DataFrame en uno solo, esto se realizo de a parejas ,porque con el comando pd.merge solo se pueden unir de a dos DataFrame"
   ]
  },
  {
   "cell_type": "code",
   "execution_count": 4,
   "metadata": {},
   "outputs": [
    {
     "data": {
      "text/html": [
       "<div>\n",
       "<style scoped>\n",
       "    .dataframe tbody tr th:only-of-type {\n",
       "        vertical-align: middle;\n",
       "    }\n",
       "\n",
       "    .dataframe tbody tr th {\n",
       "        vertical-align: top;\n",
       "    }\n",
       "\n",
       "    .dataframe thead th {\n",
       "        text-align: right;\n",
       "    }\n",
       "</style>\n",
       "<table border=\"1\" class=\"dataframe\">\n",
       "  <thead>\n",
       "    <tr style=\"text-align: right;\">\n",
       "      <th></th>\n",
       "      <th>Datetime</th>\n",
       "      <th>Voltage</th>\n",
       "      <th>Global_intensity</th>\n",
       "      <th>Global_reactive_power</th>\n",
       "      <th>Global_active_power</th>\n",
       "    </tr>\n",
       "  </thead>\n",
       "  <tbody>\n",
       "    <tr>\n",
       "      <th>0</th>\n",
       "      <td>2010-01-01 00:00:00</td>\n",
       "      <td>240.65</td>\n",
       "      <td>7.4</td>\n",
       "      <td>0.236</td>\n",
       "      <td>1.790</td>\n",
       "    </tr>\n",
       "    <tr>\n",
       "      <th>1</th>\n",
       "      <td>2010-01-01 00:01:00</td>\n",
       "      <td>240.07</td>\n",
       "      <td>7.4</td>\n",
       "      <td>0.234</td>\n",
       "      <td>1.780</td>\n",
       "    </tr>\n",
       "    <tr>\n",
       "      <th>2</th>\n",
       "      <td>2010-01-01 00:02:00</td>\n",
       "      <td>240.15</td>\n",
       "      <td>7.4</td>\n",
       "      <td>0.234</td>\n",
       "      <td>1.780</td>\n",
       "    </tr>\n",
       "    <tr>\n",
       "      <th>3</th>\n",
       "      <td>2010-01-01 00:03:00</td>\n",
       "      <td>240.26</td>\n",
       "      <td>7.2</td>\n",
       "      <td>0.186</td>\n",
       "      <td>1.746</td>\n",
       "    </tr>\n",
       "    <tr>\n",
       "      <th>4</th>\n",
       "      <td>2010-01-01 00:04:00</td>\n",
       "      <td>240.12</td>\n",
       "      <td>7.0</td>\n",
       "      <td>0.102</td>\n",
       "      <td>1.686</td>\n",
       "    </tr>\n",
       "    <tr>\n",
       "      <th>...</th>\n",
       "      <td>...</td>\n",
       "      <td>...</td>\n",
       "      <td>...</td>\n",
       "      <td>...</td>\n",
       "      <td>...</td>\n",
       "    </tr>\n",
       "    <tr>\n",
       "      <th>457390</th>\n",
       "      <td>2010-11-26 20:58:00</td>\n",
       "      <td>240.43</td>\n",
       "      <td>4.0</td>\n",
       "      <td>0.000</td>\n",
       "      <td>0.946</td>\n",
       "    </tr>\n",
       "    <tr>\n",
       "      <th>457391</th>\n",
       "      <td>2010-11-26 20:59:00</td>\n",
       "      <td>240.00</td>\n",
       "      <td>4.0</td>\n",
       "      <td>0.000</td>\n",
       "      <td>0.944</td>\n",
       "    </tr>\n",
       "    <tr>\n",
       "      <th>457392</th>\n",
       "      <td>2010-11-26 21:00:00</td>\n",
       "      <td>239.82</td>\n",
       "      <td>3.8</td>\n",
       "      <td>0.000</td>\n",
       "      <td>0.938</td>\n",
       "    </tr>\n",
       "    <tr>\n",
       "      <th>457393</th>\n",
       "      <td>2010-11-26 21:01:00</td>\n",
       "      <td>239.70</td>\n",
       "      <td>3.8</td>\n",
       "      <td>0.000</td>\n",
       "      <td>0.934</td>\n",
       "    </tr>\n",
       "    <tr>\n",
       "      <th>457394</th>\n",
       "      <td>2010-11-26 21:02:00</td>\n",
       "      <td>239.55</td>\n",
       "      <td>3.8</td>\n",
       "      <td>0.000</td>\n",
       "      <td>0.932</td>\n",
       "    </tr>\n",
       "  </tbody>\n",
       "</table>\n",
       "<p>457395 rows × 5 columns</p>\n",
       "</div>"
      ],
      "text/plain": [
       "                   Datetime  Voltage  Global_intensity  Global_reactive_power  \\\n",
       "0       2010-01-01 00:00:00   240.65               7.4                  0.236   \n",
       "1       2010-01-01 00:01:00   240.07               7.4                  0.234   \n",
       "2       2010-01-01 00:02:00   240.15               7.4                  0.234   \n",
       "3       2010-01-01 00:03:00   240.26               7.2                  0.186   \n",
       "4       2010-01-01 00:04:00   240.12               7.0                  0.102   \n",
       "...                     ...      ...               ...                    ...   \n",
       "457390  2010-11-26 20:58:00   240.43               4.0                  0.000   \n",
       "457391  2010-11-26 20:59:00   240.00               4.0                  0.000   \n",
       "457392  2010-11-26 21:00:00   239.82               3.8                  0.000   \n",
       "457393  2010-11-26 21:01:00   239.70               3.8                  0.000   \n",
       "457394  2010-11-26 21:02:00   239.55               3.8                  0.000   \n",
       "\n",
       "        Global_active_power  \n",
       "0                     1.790  \n",
       "1                     1.780  \n",
       "2                     1.780  \n",
       "3                     1.746  \n",
       "4                     1.686  \n",
       "...                     ...  \n",
       "457390                0.946  \n",
       "457391                0.944  \n",
       "457392                0.938  \n",
       "457393                0.934  \n",
       "457394                0.932  \n",
       "\n",
       "[457395 rows x 5 columns]"
      ]
     },
     "execution_count": 4,
     "metadata": {},
     "output_type": "execute_result"
    }
   ],
   "source": [
    "#con el comando pd.merge(\"columna1, columna2, on = \"columna en comun\"), podemos realizar una fusión (como \n",
    "# su nombre lo dice), de varias columnas.\n",
    "a = pd.merge(voltage,globalint,on=\"Datetime\")\n",
    "b = pd.merge(a,globalre,on=\"Datetime\")\n",
    "c = pd.merge(b,globalact, on = \"Datetime\")\n",
    "c"
   ]
  },
  {
   "cell_type": "markdown",
   "metadata": {},
   "source": [
    "Debido a los indices que tienen los archivos, se debe pasar la columna \"Datetime\" a la correcta notación de Datetime y luego debido a que los indices son numericos y el resample solo lee indices Datetime, se le cambia el indice para que haga correctamente el resample"
   ]
  },
  {
   "cell_type": "code",
   "execution_count": 5,
   "metadata": {},
   "outputs": [
    {
     "data": {
      "text/html": [
       "<div>\n",
       "<style scoped>\n",
       "    .dataframe tbody tr th:only-of-type {\n",
       "        vertical-align: middle;\n",
       "    }\n",
       "\n",
       "    .dataframe tbody tr th {\n",
       "        vertical-align: top;\n",
       "    }\n",
       "\n",
       "    .dataframe thead th {\n",
       "        text-align: right;\n",
       "    }\n",
       "</style>\n",
       "<table border=\"1\" class=\"dataframe\">\n",
       "  <thead>\n",
       "    <tr style=\"text-align: right;\">\n",
       "      <th></th>\n",
       "      <th>Voltage</th>\n",
       "      <th>Global_intensity</th>\n",
       "      <th>Global_reactive_power</th>\n",
       "      <th>Global_active_power</th>\n",
       "    </tr>\n",
       "    <tr>\n",
       "      <th>Datetime</th>\n",
       "      <th></th>\n",
       "      <th></th>\n",
       "      <th></th>\n",
       "      <th></th>\n",
       "    </tr>\n",
       "  </thead>\n",
       "  <tbody>\n",
       "    <tr>\n",
       "      <th>2010-01-01 00:00:00</th>\n",
       "      <td>240.65</td>\n",
       "      <td>7.4</td>\n",
       "      <td>0.236</td>\n",
       "      <td>1.790</td>\n",
       "    </tr>\n",
       "    <tr>\n",
       "      <th>2010-01-01 00:01:00</th>\n",
       "      <td>240.07</td>\n",
       "      <td>7.4</td>\n",
       "      <td>0.234</td>\n",
       "      <td>1.780</td>\n",
       "    </tr>\n",
       "    <tr>\n",
       "      <th>2010-01-01 00:02:00</th>\n",
       "      <td>240.15</td>\n",
       "      <td>7.4</td>\n",
       "      <td>0.234</td>\n",
       "      <td>1.780</td>\n",
       "    </tr>\n",
       "    <tr>\n",
       "      <th>2010-01-01 00:03:00</th>\n",
       "      <td>240.26</td>\n",
       "      <td>7.2</td>\n",
       "      <td>0.186</td>\n",
       "      <td>1.746</td>\n",
       "    </tr>\n",
       "    <tr>\n",
       "      <th>2010-01-01 00:04:00</th>\n",
       "      <td>240.12</td>\n",
       "      <td>7.0</td>\n",
       "      <td>0.102</td>\n",
       "      <td>1.686</td>\n",
       "    </tr>\n",
       "    <tr>\n",
       "      <th>...</th>\n",
       "      <td>...</td>\n",
       "      <td>...</td>\n",
       "      <td>...</td>\n",
       "      <td>...</td>\n",
       "    </tr>\n",
       "    <tr>\n",
       "      <th>2010-11-26 20:58:00</th>\n",
       "      <td>240.43</td>\n",
       "      <td>4.0</td>\n",
       "      <td>0.000</td>\n",
       "      <td>0.946</td>\n",
       "    </tr>\n",
       "    <tr>\n",
       "      <th>2010-11-26 20:59:00</th>\n",
       "      <td>240.00</td>\n",
       "      <td>4.0</td>\n",
       "      <td>0.000</td>\n",
       "      <td>0.944</td>\n",
       "    </tr>\n",
       "    <tr>\n",
       "      <th>2010-11-26 21:00:00</th>\n",
       "      <td>239.82</td>\n",
       "      <td>3.8</td>\n",
       "      <td>0.000</td>\n",
       "      <td>0.938</td>\n",
       "    </tr>\n",
       "    <tr>\n",
       "      <th>2010-11-26 21:01:00</th>\n",
       "      <td>239.70</td>\n",
       "      <td>3.8</td>\n",
       "      <td>0.000</td>\n",
       "      <td>0.934</td>\n",
       "    </tr>\n",
       "    <tr>\n",
       "      <th>2010-11-26 21:02:00</th>\n",
       "      <td>239.55</td>\n",
       "      <td>3.8</td>\n",
       "      <td>0.000</td>\n",
       "      <td>0.932</td>\n",
       "    </tr>\n",
       "  </tbody>\n",
       "</table>\n",
       "<p>457395 rows × 4 columns</p>\n",
       "</div>"
      ],
      "text/plain": [
       "                     Voltage  Global_intensity  Global_reactive_power  \\\n",
       "Datetime                                                                \n",
       "2010-01-01 00:00:00   240.65               7.4                  0.236   \n",
       "2010-01-01 00:01:00   240.07               7.4                  0.234   \n",
       "2010-01-01 00:02:00   240.15               7.4                  0.234   \n",
       "2010-01-01 00:03:00   240.26               7.2                  0.186   \n",
       "2010-01-01 00:04:00   240.12               7.0                  0.102   \n",
       "...                      ...               ...                    ...   \n",
       "2010-11-26 20:58:00   240.43               4.0                  0.000   \n",
       "2010-11-26 20:59:00   240.00               4.0                  0.000   \n",
       "2010-11-26 21:00:00   239.82               3.8                  0.000   \n",
       "2010-11-26 21:01:00   239.70               3.8                  0.000   \n",
       "2010-11-26 21:02:00   239.55               3.8                  0.000   \n",
       "\n",
       "                     Global_active_power  \n",
       "Datetime                                  \n",
       "2010-01-01 00:00:00                1.790  \n",
       "2010-01-01 00:01:00                1.780  \n",
       "2010-01-01 00:02:00                1.780  \n",
       "2010-01-01 00:03:00                1.746  \n",
       "2010-01-01 00:04:00                1.686  \n",
       "...                                  ...  \n",
       "2010-11-26 20:58:00                0.946  \n",
       "2010-11-26 20:59:00                0.944  \n",
       "2010-11-26 21:00:00                0.938  \n",
       "2010-11-26 21:01:00                0.934  \n",
       "2010-11-26 21:02:00                0.932  \n",
       "\n",
       "[457395 rows x 4 columns]"
      ]
     },
     "execution_count": 5,
     "metadata": {},
     "output_type": "execute_result"
    }
   ],
   "source": [
    "# pd.to_datetime(\"columna\"), nos permite cambiar valores a un formato de Datetime\n",
    "c[\"Datetime\"] = pd.to_datetime(c[\"Datetime\"])\n",
    "# dataframe.set_index(\"Columna\"), cambia el indice\n",
    "c = c.set_index(\"Datetime\")\n",
    "c"
   ]
  },
  {
   "cell_type": "markdown",
   "metadata": {},
   "source": [
    "## 3) Resample"
   ]
  },
  {
   "cell_type": "markdown",
   "metadata": {},
   "source": [
    "En esta casilla resampleamos cada uno por el rango de tiempo que se nos pedia, es decir meses, dias y minutos."
   ]
  },
  {
   "cell_type": "code",
   "execution_count": 6,
   "metadata": {},
   "outputs": [
    {
     "data": {
      "text/html": [
       "<div>\n",
       "<style scoped>\n",
       "    .dataframe tbody tr th:only-of-type {\n",
       "        vertical-align: middle;\n",
       "    }\n",
       "\n",
       "    .dataframe tbody tr th {\n",
       "        vertical-align: top;\n",
       "    }\n",
       "\n",
       "    .dataframe thead th {\n",
       "        text-align: right;\n",
       "    }\n",
       "</style>\n",
       "<table border=\"1\" class=\"dataframe\">\n",
       "  <thead>\n",
       "    <tr style=\"text-align: right;\">\n",
       "      <th></th>\n",
       "      <th>Voltage</th>\n",
       "      <th>Global_intensity</th>\n",
       "      <th>Global_reactive_power</th>\n",
       "      <th>Global_active_power</th>\n",
       "    </tr>\n",
       "    <tr>\n",
       "      <th>Datetime</th>\n",
       "      <th></th>\n",
       "      <th></th>\n",
       "      <th></th>\n",
       "      <th></th>\n",
       "    </tr>\n",
       "  </thead>\n",
       "  <tbody>\n",
       "    <tr>\n",
       "      <th>2010-01-31</th>\n",
       "      <td>242.338522</td>\n",
       "      <td>5.430332</td>\n",
       "      <td>0.125182</td>\n",
       "      <td>1.300640</td>\n",
       "    </tr>\n",
       "    <tr>\n",
       "      <th>2010-02-28</th>\n",
       "      <td>242.002101</td>\n",
       "      <td>4.836624</td>\n",
       "      <td>0.109467</td>\n",
       "      <td>1.157539</td>\n",
       "    </tr>\n",
       "    <tr>\n",
       "      <th>2010-03-31</th>\n",
       "      <td>241.475284</td>\n",
       "      <td>4.920399</td>\n",
       "      <td>0.136368</td>\n",
       "      <td>1.170015</td>\n",
       "    </tr>\n",
       "    <tr>\n",
       "      <th>2010-04-30</th>\n",
       "      <td>241.442527</td>\n",
       "      <td>4.363496</td>\n",
       "      <td>0.129557</td>\n",
       "      <td>1.036334</td>\n",
       "    </tr>\n",
       "    <tr>\n",
       "      <th>2010-05-31</th>\n",
       "      <td>241.296151</td>\n",
       "      <td>4.551504</td>\n",
       "      <td>0.127221</td>\n",
       "      <td>1.075957</td>\n",
       "    </tr>\n",
       "    <tr>\n",
       "      <th>2010-06-30</th>\n",
       "      <td>240.888985</td>\n",
       "      <td>4.170282</td>\n",
       "      <td>0.145525</td>\n",
       "      <td>0.975306</td>\n",
       "    </tr>\n",
       "    <tr>\n",
       "      <th>2010-07-31</th>\n",
       "      <td>240.965167</td>\n",
       "      <td>3.337202</td>\n",
       "      <td>0.138093</td>\n",
       "      <td>0.778947</td>\n",
       "    </tr>\n",
       "    <tr>\n",
       "      <th>2010-08-31</th>\n",
       "      <td>241.422944</td>\n",
       "      <td>3.954423</td>\n",
       "      <td>0.130815</td>\n",
       "      <td>0.929452</td>\n",
       "    </tr>\n",
       "    <tr>\n",
       "      <th>2010-09-30</th>\n",
       "      <td>241.267517</td>\n",
       "      <td>4.223837</td>\n",
       "      <td>0.127700</td>\n",
       "      <td>0.997541</td>\n",
       "    </tr>\n",
       "    <tr>\n",
       "      <th>2010-10-31</th>\n",
       "      <td>242.515451</td>\n",
       "      <td>4.732904</td>\n",
       "      <td>0.134547</td>\n",
       "      <td>1.127749</td>\n",
       "    </tr>\n",
       "    <tr>\n",
       "      <th>2010-11-30</th>\n",
       "      <td>241.024739</td>\n",
       "      <td>4.679594</td>\n",
       "      <td>0.115390</td>\n",
       "      <td>1.106450</td>\n",
       "    </tr>\n",
       "    <tr>\n",
       "      <th>2010-12-31</th>\n",
       "      <td>241.420479</td>\n",
       "      <td>4.673267</td>\n",
       "      <td>0.129499</td>\n",
       "      <td>1.107559</td>\n",
       "    </tr>\n",
       "  </tbody>\n",
       "</table>\n",
       "</div>"
      ],
      "text/plain": [
       "               Voltage  Global_intensity  Global_reactive_power  \\\n",
       "Datetime                                                          \n",
       "2010-01-31  242.338522          5.430332               0.125182   \n",
       "2010-02-28  242.002101          4.836624               0.109467   \n",
       "2010-03-31  241.475284          4.920399               0.136368   \n",
       "2010-04-30  241.442527          4.363496               0.129557   \n",
       "2010-05-31  241.296151          4.551504               0.127221   \n",
       "2010-06-30  240.888985          4.170282               0.145525   \n",
       "2010-07-31  240.965167          3.337202               0.138093   \n",
       "2010-08-31  241.422944          3.954423               0.130815   \n",
       "2010-09-30  241.267517          4.223837               0.127700   \n",
       "2010-10-31  242.515451          4.732904               0.134547   \n",
       "2010-11-30  241.024739          4.679594               0.115390   \n",
       "2010-12-31  241.420479          4.673267               0.129499   \n",
       "\n",
       "            Global_active_power  \n",
       "Datetime                         \n",
       "2010-01-31             1.300640  \n",
       "2010-02-28             1.157539  \n",
       "2010-03-31             1.170015  \n",
       "2010-04-30             1.036334  \n",
       "2010-05-31             1.075957  \n",
       "2010-06-30             0.975306  \n",
       "2010-07-31             0.778947  \n",
       "2010-08-31             0.929452  \n",
       "2010-09-30             0.997541  \n",
       "2010-10-31             1.127749  \n",
       "2010-11-30             1.106450  \n",
       "2010-12-31             1.107559  "
      ]
     },
     "execution_count": 6,
     "metadata": {},
     "output_type": "execute_result"
    }
   ],
   "source": [
    "#con este comando se puede resamplear por intervalos de tiempo (en este caso), gracias a que esta en \n",
    "#formato de date time, \"M\" es para meses, \"D\" para dias y si quisieramos minutos \"T\", y luego lo mandamos a promediar\n",
    "#los datos\n",
    "mes =  c.resample(\"M\").mean()\n",
    "dias = c.resample(\"D\").mean()\n",
    "minutos = c\n",
    "mes"
   ]
  },
  {
   "cell_type": "code",
   "execution_count": 7,
   "metadata": {},
   "outputs": [
    {
     "data": {
      "text/html": [
       "<div>\n",
       "<style scoped>\n",
       "    .dataframe tbody tr th:only-of-type {\n",
       "        vertical-align: middle;\n",
       "    }\n",
       "\n",
       "    .dataframe tbody tr th {\n",
       "        vertical-align: top;\n",
       "    }\n",
       "\n",
       "    .dataframe thead th {\n",
       "        text-align: right;\n",
       "    }\n",
       "</style>\n",
       "<table border=\"1\" class=\"dataframe\">\n",
       "  <thead>\n",
       "    <tr style=\"text-align: right;\">\n",
       "      <th></th>\n",
       "      <th>Voltage</th>\n",
       "      <th>Global_intensity</th>\n",
       "      <th>Global_reactive_power</th>\n",
       "      <th>Global_active_power</th>\n",
       "    </tr>\n",
       "    <tr>\n",
       "      <th>Datetime</th>\n",
       "      <th></th>\n",
       "      <th></th>\n",
       "      <th></th>\n",
       "      <th></th>\n",
       "    </tr>\n",
       "  </thead>\n",
       "  <tbody>\n",
       "    <tr>\n",
       "      <th>2010-01-01</th>\n",
       "      <td>242.565722</td>\n",
       "      <td>3.537083</td>\n",
       "      <td>0.114817</td>\n",
       "      <td>0.850175</td>\n",
       "    </tr>\n",
       "    <tr>\n",
       "      <th>2010-01-02</th>\n",
       "      <td>243.631743</td>\n",
       "      <td>4.857778</td>\n",
       "      <td>0.086656</td>\n",
       "      <td>1.176235</td>\n",
       "    </tr>\n",
       "    <tr>\n",
       "      <th>2010-01-03</th>\n",
       "      <td>241.822778</td>\n",
       "      <td>3.757778</td>\n",
       "      <td>0.090331</td>\n",
       "      <td>0.901894</td>\n",
       "    </tr>\n",
       "    <tr>\n",
       "      <th>2010-01-04</th>\n",
       "      <td>241.754160</td>\n",
       "      <td>4.879028</td>\n",
       "      <td>0.100322</td>\n",
       "      <td>1.171833</td>\n",
       "    </tr>\n",
       "    <tr>\n",
       "      <th>2010-01-05</th>\n",
       "      <td>240.647167</td>\n",
       "      <td>3.929861</td>\n",
       "      <td>0.133697</td>\n",
       "      <td>0.916776</td>\n",
       "    </tr>\n",
       "    <tr>\n",
       "      <th>...</th>\n",
       "      <td>...</td>\n",
       "      <td>...</td>\n",
       "      <td>...</td>\n",
       "      <td>...</td>\n",
       "    </tr>\n",
       "    <tr>\n",
       "      <th>2010-12-07</th>\n",
       "      <td>240.218646</td>\n",
       "      <td>3.397222</td>\n",
       "      <td>0.198550</td>\n",
       "      <td>0.770538</td>\n",
       "    </tr>\n",
       "    <tr>\n",
       "      <th>2010-12-08</th>\n",
       "      <td>240.794931</td>\n",
       "      <td>1.623750</td>\n",
       "      <td>0.117429</td>\n",
       "      <td>0.367846</td>\n",
       "    </tr>\n",
       "    <tr>\n",
       "      <th>2010-12-09</th>\n",
       "      <td>241.619722</td>\n",
       "      <td>4.755694</td>\n",
       "      <td>0.139832</td>\n",
       "      <td>1.119508</td>\n",
       "    </tr>\n",
       "    <tr>\n",
       "      <th>2010-12-10</th>\n",
       "      <td>240.260674</td>\n",
       "      <td>4.681389</td>\n",
       "      <td>0.118242</td>\n",
       "      <td>1.097008</td>\n",
       "    </tr>\n",
       "    <tr>\n",
       "      <th>2010-12-11</th>\n",
       "      <td>238.837896</td>\n",
       "      <td>5.434861</td>\n",
       "      <td>0.104961</td>\n",
       "      <td>1.275571</td>\n",
       "    </tr>\n",
       "  </tbody>\n",
       "</table>\n",
       "<p>345 rows × 4 columns</p>\n",
       "</div>"
      ],
      "text/plain": [
       "               Voltage  Global_intensity  Global_reactive_power  \\\n",
       "Datetime                                                          \n",
       "2010-01-01  242.565722          3.537083               0.114817   \n",
       "2010-01-02  243.631743          4.857778               0.086656   \n",
       "2010-01-03  241.822778          3.757778               0.090331   \n",
       "2010-01-04  241.754160          4.879028               0.100322   \n",
       "2010-01-05  240.647167          3.929861               0.133697   \n",
       "...                ...               ...                    ...   \n",
       "2010-12-07  240.218646          3.397222               0.198550   \n",
       "2010-12-08  240.794931          1.623750               0.117429   \n",
       "2010-12-09  241.619722          4.755694               0.139832   \n",
       "2010-12-10  240.260674          4.681389               0.118242   \n",
       "2010-12-11  238.837896          5.434861               0.104961   \n",
       "\n",
       "            Global_active_power  \n",
       "Datetime                         \n",
       "2010-01-01             0.850175  \n",
       "2010-01-02             1.176235  \n",
       "2010-01-03             0.901894  \n",
       "2010-01-04             1.171833  \n",
       "2010-01-05             0.916776  \n",
       "...                         ...  \n",
       "2010-12-07             0.770538  \n",
       "2010-12-08             0.367846  \n",
       "2010-12-09             1.119508  \n",
       "2010-12-10             1.097008  \n",
       "2010-12-11             1.275571  \n",
       "\n",
       "[345 rows x 4 columns]"
      ]
     },
     "execution_count": 7,
     "metadata": {},
     "output_type": "execute_result"
    }
   ],
   "source": [
    "dias"
   ]
  },
  {
   "cell_type": "code",
   "execution_count": 8,
   "metadata": {},
   "outputs": [
    {
     "data": {
      "text/html": [
       "<div>\n",
       "<style scoped>\n",
       "    .dataframe tbody tr th:only-of-type {\n",
       "        vertical-align: middle;\n",
       "    }\n",
       "\n",
       "    .dataframe tbody tr th {\n",
       "        vertical-align: top;\n",
       "    }\n",
       "\n",
       "    .dataframe thead th {\n",
       "        text-align: right;\n",
       "    }\n",
       "</style>\n",
       "<table border=\"1\" class=\"dataframe\">\n",
       "  <thead>\n",
       "    <tr style=\"text-align: right;\">\n",
       "      <th></th>\n",
       "      <th>Voltage</th>\n",
       "      <th>Global_intensity</th>\n",
       "      <th>Global_reactive_power</th>\n",
       "      <th>Global_active_power</th>\n",
       "    </tr>\n",
       "    <tr>\n",
       "      <th>Datetime</th>\n",
       "      <th></th>\n",
       "      <th></th>\n",
       "      <th></th>\n",
       "      <th></th>\n",
       "    </tr>\n",
       "  </thead>\n",
       "  <tbody>\n",
       "    <tr>\n",
       "      <th>2010-01-01 00:00:00</th>\n",
       "      <td>240.65</td>\n",
       "      <td>7.4</td>\n",
       "      <td>0.236</td>\n",
       "      <td>1.790</td>\n",
       "    </tr>\n",
       "    <tr>\n",
       "      <th>2010-01-01 00:01:00</th>\n",
       "      <td>240.07</td>\n",
       "      <td>7.4</td>\n",
       "      <td>0.234</td>\n",
       "      <td>1.780</td>\n",
       "    </tr>\n",
       "    <tr>\n",
       "      <th>2010-01-01 00:02:00</th>\n",
       "      <td>240.15</td>\n",
       "      <td>7.4</td>\n",
       "      <td>0.234</td>\n",
       "      <td>1.780</td>\n",
       "    </tr>\n",
       "    <tr>\n",
       "      <th>2010-01-01 00:03:00</th>\n",
       "      <td>240.26</td>\n",
       "      <td>7.2</td>\n",
       "      <td>0.186</td>\n",
       "      <td>1.746</td>\n",
       "    </tr>\n",
       "    <tr>\n",
       "      <th>2010-01-01 00:04:00</th>\n",
       "      <td>240.12</td>\n",
       "      <td>7.0</td>\n",
       "      <td>0.102</td>\n",
       "      <td>1.686</td>\n",
       "    </tr>\n",
       "    <tr>\n",
       "      <th>...</th>\n",
       "      <td>...</td>\n",
       "      <td>...</td>\n",
       "      <td>...</td>\n",
       "      <td>...</td>\n",
       "    </tr>\n",
       "    <tr>\n",
       "      <th>2010-11-26 20:58:00</th>\n",
       "      <td>240.43</td>\n",
       "      <td>4.0</td>\n",
       "      <td>0.000</td>\n",
       "      <td>0.946</td>\n",
       "    </tr>\n",
       "    <tr>\n",
       "      <th>2010-11-26 20:59:00</th>\n",
       "      <td>240.00</td>\n",
       "      <td>4.0</td>\n",
       "      <td>0.000</td>\n",
       "      <td>0.944</td>\n",
       "    </tr>\n",
       "    <tr>\n",
       "      <th>2010-11-26 21:00:00</th>\n",
       "      <td>239.82</td>\n",
       "      <td>3.8</td>\n",
       "      <td>0.000</td>\n",
       "      <td>0.938</td>\n",
       "    </tr>\n",
       "    <tr>\n",
       "      <th>2010-11-26 21:01:00</th>\n",
       "      <td>239.70</td>\n",
       "      <td>3.8</td>\n",
       "      <td>0.000</td>\n",
       "      <td>0.934</td>\n",
       "    </tr>\n",
       "    <tr>\n",
       "      <th>2010-11-26 21:02:00</th>\n",
       "      <td>239.55</td>\n",
       "      <td>3.8</td>\n",
       "      <td>0.000</td>\n",
       "      <td>0.932</td>\n",
       "    </tr>\n",
       "  </tbody>\n",
       "</table>\n",
       "<p>457395 rows × 4 columns</p>\n",
       "</div>"
      ],
      "text/plain": [
       "                     Voltage  Global_intensity  Global_reactive_power  \\\n",
       "Datetime                                                                \n",
       "2010-01-01 00:00:00   240.65               7.4                  0.236   \n",
       "2010-01-01 00:01:00   240.07               7.4                  0.234   \n",
       "2010-01-01 00:02:00   240.15               7.4                  0.234   \n",
       "2010-01-01 00:03:00   240.26               7.2                  0.186   \n",
       "2010-01-01 00:04:00   240.12               7.0                  0.102   \n",
       "...                      ...               ...                    ...   \n",
       "2010-11-26 20:58:00   240.43               4.0                  0.000   \n",
       "2010-11-26 20:59:00   240.00               4.0                  0.000   \n",
       "2010-11-26 21:00:00   239.82               3.8                  0.000   \n",
       "2010-11-26 21:01:00   239.70               3.8                  0.000   \n",
       "2010-11-26 21:02:00   239.55               3.8                  0.000   \n",
       "\n",
       "                     Global_active_power  \n",
       "Datetime                                  \n",
       "2010-01-01 00:00:00                1.790  \n",
       "2010-01-01 00:01:00                1.780  \n",
       "2010-01-01 00:02:00                1.780  \n",
       "2010-01-01 00:03:00                1.746  \n",
       "2010-01-01 00:04:00                1.686  \n",
       "...                                  ...  \n",
       "2010-11-26 20:58:00                0.946  \n",
       "2010-11-26 20:59:00                0.944  \n",
       "2010-11-26 21:00:00                0.938  \n",
       "2010-11-26 21:01:00                0.934  \n",
       "2010-11-26 21:02:00                0.932  \n",
       "\n",
       "[457395 rows x 4 columns]"
      ]
     },
     "execution_count": 8,
     "metadata": {},
     "output_type": "execute_result"
    }
   ],
   "source": [
    "minutos"
   ]
  },
  {
   "cell_type": "markdown",
   "metadata": {},
   "source": [
    "## 4) Regresiones"
   ]
  },
  {
   "cell_type": "markdown",
   "metadata": {},
   "source": [
    "### 4.0.1) Definición de los modelos"
   ]
  },
  {
   "cell_type": "markdown",
   "metadata": {},
   "source": [
    "Definimos cada modelo en una funcion, le asignamos las variables que son:\n",
    "\n",
    "x : variable independiente \\\n",
    "a : pendiente\\\n",
    "b : ordenada al origen"
   ]
  },
  {
   "cell_type": "code",
   "execution_count": 9,
   "metadata": {},
   "outputs": [],
   "source": [
    "#definicion de las funciones de cada modelo\n",
    "def f(x,a,b):\n",
    "    return a*x + b\n",
    "def g(x,a,b):\n",
    "    return a*x +b\n",
    "def h(X,a_1,a_2,b):\n",
    "    x,y = X\n",
    "    return a_1*x + a_2*y + b"
   ]
  },
  {
   "cell_type": "markdown",
   "metadata": {},
   "source": [
    "### 4.1) Regresión por mes"
   ]
  },
  {
   "cell_type": "code",
   "execution_count": 10,
   "metadata": {},
   "outputs": [],
   "source": [
    "# se le indica las columnas de cada variable (para los datos del  mes)\n",
    "vgm = mes[\"Voltage\"]\n",
    "inm = mes[\"Global_intensity\"]\n",
    "grpm = mes[\"Global_reactive_power\"]\n",
    "gapm = mes[\"Global_active_power\"]\n"
   ]
  },
  {
   "cell_type": "markdown",
   "metadata": {},
   "source": [
    " ### 4.1.1) Modelo 1"
   ]
  },
  {
   "cell_type": "markdown",
   "metadata": {},
   "source": [
    "Definimos el modelo que con el comando curve_fit nos dara los resultados mas optimos para a y b, tambien le ponemos cov1 que nos dara una matriz con la desviacion estandar"
   ]
  },
  {
   "cell_type": "code",
   "execution_count": 11,
   "metadata": {},
   "outputs": [
    {
     "data": {
      "text/plain": [
       "array([ 0.25042854, -0.06067193])"
      ]
     },
     "execution_count": 11,
     "metadata": {},
     "output_type": "execute_result"
    }
   ],
   "source": [
    "#aplicación del curve_fit() al primer modelo, model1 es la matriz con los valores de a y b\n",
    "#cov1 la matriz de covarianza\n",
    "model1,cov1 = curve_fit(f,inm,gapm)\n",
    "model1"
   ]
  },
  {
   "cell_type": "markdown",
   "metadata": {},
   "source": [
    "Realizamos las graficas de los puntos originales y el modelo que acabamos de definir"
   ]
  },
  {
   "cell_type": "code",
   "execution_count": 12,
   "metadata": {},
   "outputs": [
    {
     "data": {
      "text/plain": [
       "<matplotlib.legend.Legend at 0xa1db490>"
      ]
     },
     "execution_count": 12,
     "metadata": {},
     "output_type": "execute_result"
    },
    {
     "data": {
      "image/png": "[encoded data removed]",
      "text/plain": [
       "<Figure size 432x288 with 1 Axes>"
      ]
     },
     "metadata": {
      "needs_background": "light"
     },
     "output_type": "display_data"
    }
   ],
   "source": [
    "#grafica del modelo1 para datos mensuales, con su respectiva regresión\n",
    "plt.figure()\n",
    "plt.title(\"Regresión de datos mensuales\")\n",
    "plt.scatter(inm,gapm, label = \"datos por mes\")\n",
    "plt.plot(inm,f(inm, *model1), \"r\", label = \"modelo\")\n",
    "plt.legend()"
   ]
  },
  {
   "cell_type": "markdown",
   "metadata": {},
   "source": [
    " ### 4.1.2) Modelo 2"
   ]
  },
  {
   "cell_type": "code",
   "execution_count": 13,
   "metadata": {},
   "outputs": [
    {
     "data": {
      "text/plain": [
       "array([[ 3.59400196e-03, -8.67969399e-01],\n",
       "       [-8.67969399e-01,  2.09619833e+02]])"
      ]
     },
     "execution_count": 13,
     "metadata": {},
     "output_type": "execute_result"
    }
   ],
   "source": [
    "#ajuste con curve_fit\n",
    "modelo2,cov2 = curve_fit(g,vgm,gapm)\n",
    "cov2"
   ]
  },
  {
   "cell_type": "code",
   "execution_count": 14,
   "metadata": {},
   "outputs": [
    {
     "data": {
      "text/plain": [
       "<matplotlib.legend.Legend at 0xa8588b0>"
      ]
     },
     "execution_count": 14,
     "metadata": {},
     "output_type": "execute_result"
    },
    {
     "data": {
      "image/png": "[encoded data removed]",
      "text/plain": [
       "<Figure size 432x288 with 1 Axes>"
      ]
     },
     "metadata": {
      "needs_background": "light"
     },
     "output_type": "display_data"
    }
   ],
   "source": [
    "plt.scatter(vgm,gapm, label = \"datos mensuales\")\n",
    "plt.plot(vgm,g(vgm, *modelo2),\"r\",label = \"modelo 2\" )\n",
    "plt.title(\"grafica del modelo 2 con regresion\")\n",
    "plt.legend()"
   ]
  },
  {
   "cell_type": "markdown",
   "metadata": {},
   "source": [
    "### 4.1.3) Modelo 3"
   ]
  },
  {
   "cell_type": "markdown",
   "metadata": {},
   "source": [
    " el modelo numero 3 tiene dos variables independientes y una ordenada en el origen, por consecuente se debe realizar una grafica en 3D"
   ]
  },
  {
   "cell_type": "code",
   "execution_count": 15,
   "metadata": {},
   "outputs": [
    {
     "data": {
      "text/plain": [
       "array([ 0.24524991,  0.00808133, -1.98910306])"
      ]
     },
     "execution_count": 15,
     "metadata": {},
     "output_type": "execute_result"
    }
   ],
   "source": [
    "#curve fit solo acepta dos variables, por lo cual en el modelo ponemos dos variables dentro de una\n",
    "#lo cual arregla este problema\n",
    "modelo3, cov3 = curve_fit(h,(inm,vgm),gapm)\n",
    "modelo3"
   ]
  },
  {
   "cell_type": "markdown",
   "metadata": {},
   "source": [
    "Como intuimos el modelo se debe asemejar al de un plano debido a la ecuacion que tiene $0 = A_{31} (globalintensity) + A_{32} (Voltage) - global active power + B_3 $. Para realizar este plano se usaran dos puntos y el vector normal. tambien el comando np.meshgrid, que lo que hara es aceptar unas coordenadas de un segmento del plano y darnos en arrays las coordenadas de dicho plano"
   ]
  },
  {
   "cell_type": "code",
   "execution_count": 16,
   "metadata": {},
   "outputs": [],
   "source": [
    "#np.meshgrid(valores en x del segmento , valores en y del segmento, valores en z)\n",
    "xx , yy= np.meshgrid(inm,vgm)"
   ]
  },
  {
   "cell_type": "markdown",
   "metadata": {},
   "source": [
    "Para realizar esta seccion debemos definir el vector normal que en una ecuacion del plano ($ax + by + cz + d = 0$) tendria coordenadas $v_n = (a,b,c)$"
   ]
  },
  {
   "cell_type": "code",
   "execution_count": 17,
   "metadata": {},
   "outputs": [],
   "source": [
    "#se realiza el calculo del vector normal\n",
    "vn = ( modelo3[0] , modelo3[1] , -1 )\n",
    "d =modelo3[2]\n",
    "#calculamos el componente z en base a los xx y yy para que nos quede en forma de dos matrices para que realice la grafica correctamente\n",
    "z = (-vn[0]*xx - vn[1]*yy - d) * 1. / vn[2]"
   ]
  },
  {
   "cell_type": "code",
   "execution_count": 18,
   "metadata": {},
   "outputs": [
    {
     "data": {
      "text/plain": [
       "<matplotlib.legend.Legend at 0xba075b0>"
      ]
     },
     "execution_count": 18,
     "metadata": {},
     "output_type": "execute_result"
    },
    {
     "data": {
      "image/png": "[encoded data removed]",
      "text/plain": [
       "<Figure size 432x288 with 1 Axes>"
      ]
     },
     "metadata": {
      "needs_background": "light"
     },
     "output_type": "display_data"
    }
   ],
   "source": [
    "fig = plt.figure()\n",
    "ax = Axes3D(fig)\n",
    "ax.scatter(inm,vgm,gapm, c = \"r\",label = \"datos mensuales\")\n",
    "ax.plot_surface(xx,yy,z, color = \"blue\", alpha = 0.06 )\n",
    "ax.legend()"
   ]
  },
  {
   "cell_type": "markdown",
   "metadata": {},
   "source": [
    "### 4.2) Regresión por dias"
   ]
  },
  {
   "cell_type": "markdown",
   "metadata": {},
   "source": [
    "### 4.2.1) Modelo 1 "
   ]
  },
  {
   "cell_type": "code",
   "execution_count": 19,
   "metadata": {},
   "outputs": [],
   "source": [
    "# se le indica las columnas de cada variable (para los datos de cada dia)\n",
    "vgd = dias[\"Voltage\"]\n",
    "ind = dias[\"Global_intensity\"]\n",
    "grpd = dias[\"Global_reactive_power\"]\n",
    "gapd = dias[\"Global_active_power\"]"
   ]
  },
  {
   "cell_type": "code",
   "execution_count": 20,
   "metadata": {},
   "outputs": [],
   "source": [
    "#para quitar los datos vacios usamos el comando dataframe.dropna()\n",
    "vgd = vgd.dropna()\n",
    "ind = ind.dropna()\n",
    "grpd = grpd.dropna()\n",
    "gapd = gapd.dropna()"
   ]
  },
  {
   "cell_type": "code",
   "execution_count": 21,
   "metadata": {},
   "outputs": [
    {
     "data": {
      "text/plain": [
       "array([ 0.24305793, -0.02753221])"
      ]
     },
     "execution_count": 21,
     "metadata": {},
     "output_type": "execute_result"
    }
   ],
   "source": [
    "modelo1d, cov1d = curve_fit(f,ind,gapd)\n",
    "modelo1d"
   ]
  },
  {
   "cell_type": "code",
   "execution_count": 22,
   "metadata": {},
   "outputs": [
    {
     "data": {
      "text/plain": [
       "<matplotlib.legend.Legend at 0x11de7bb0>"
      ]
     },
     "execution_count": 22,
     "metadata": {},
     "output_type": "execute_result"
    },
    {
     "data": {
      "image/png": "[encoded data removed]",
      "text/plain": [
       "<Figure size 432x288 with 1 Axes>"
      ]
     },
     "metadata": {
      "needs_background": "light"
     },
     "output_type": "display_data"
    }
   ],
   "source": [
    "plt.scatter(ind,gapd, label = \"datos diarios\")\n",
    "plt.plot(ind,f(ind, *modelo1d),\"r\", label = \"modelo 1\")\n",
    "plt.title(\"modelo 1 con su regresion diaria\")\n",
    "plt.legend()"
   ]
  },
  {
   "cell_type": "markdown",
   "metadata": {},
   "source": [
    "### 4.2.2) Modelo 2"
   ]
  },
  {
   "cell_type": "code",
   "execution_count": 23,
   "metadata": {},
   "outputs": [
    {
     "data": {
      "text/plain": [
       "array([ 0.0296603 , -6.10166907])"
      ]
     },
     "execution_count": 23,
     "metadata": {},
     "output_type": "execute_result"
    }
   ],
   "source": [
    "modelo2d, cov2d = curve_fit(g,vgd,gapd)\n",
    "modelo2d"
   ]
  },
  {
   "cell_type": "code",
   "execution_count": 24,
   "metadata": {},
   "outputs": [
    {
     "data": {
      "text/plain": [
       "<matplotlib.legend.Legend at 0x11de7b50>"
      ]
     },
     "execution_count": 24,
     "metadata": {},
     "output_type": "execute_result"
    },
    {
     "data": {
      "image/png": "[encoded data removed]",
      "text/plain": [
       "<Figure size 432x288 with 1 Axes>"
      ]
     },
     "metadata": {
      "needs_background": "light"
     },
     "output_type": "display_data"
    }
   ],
   "source": [
    "plt.scatter(vgd,gapd, label = \"datos diarios\")\n",
    "plt.plot(vgd,g( vgd, *modelo2d),\"r\", label = \" modelo 2\")\n",
    "plt.title(\"Modelo 2 con su regresion diaria\")\n",
    "plt.legend()"
   ]
  },
  {
   "cell_type": "markdown",
   "metadata": {},
   "source": [
    "### 4.2.3)  Modelo 3"
   ]
  },
  {
   "cell_type": "code",
   "execution_count": 25,
   "metadata": {},
   "outputs": [
    {
     "data": {
      "text/plain": [
       "array([ 0.24235044,  0.00617299, -1.51527187])"
      ]
     },
     "execution_count": 25,
     "metadata": {},
     "output_type": "execute_result"
    }
   ],
   "source": [
    "modelo3d, cov3d = curve_fit(h,(ind,vgd),gapd)\n",
    "modelo3d"
   ]
  },
  {
   "cell_type": "code",
   "execution_count": 26,
   "metadata": {},
   "outputs": [],
   "source": [
    "#np.meshgrid(valores en x del segmento , valores en y del segmento, valores en z)\n",
    "xx2 , yy2 = np.meshgrid(ind,vgd)"
   ]
  },
  {
   "cell_type": "code",
   "execution_count": 27,
   "metadata": {},
   "outputs": [],
   "source": [
    "#realizamos el mismo procedimiento que con las anterior modelo\n",
    "vn2 = ( modelo3d[0] , modelo3d[1] , -1 )\n",
    "d2 = modelo3d[2]\n",
    "z2 = (-vn2[0]*xx2 - vn2[1]*yy2 - d2) * 1. / vn2[2]"
   ]
  },
  {
   "cell_type": "code",
   "execution_count": 28,
   "metadata": {},
   "outputs": [
    {
     "data": {
      "text/plain": [
       "<matplotlib.legend.Legend at 0x1817dfd0>"
      ]
     },
     "execution_count": 28,
     "metadata": {},
     "output_type": "execute_result"
    },
    {
     "data": {
      "image/png": "[encoded data removed]",
      "text/plain": [
       "<Figure size 432x288 with 1 Axes>"
      ]
     },
     "metadata": {
      "needs_background": "light"
     },
     "output_type": "display_data"
    }
   ],
   "source": [
    "fig = plt.figure()\n",
    "ax = Axes3D(fig)\n",
    "ax.scatter(ind,vgd,gapd,c = \"r\", label = \"datos diarios\")\n",
    "ax.plot_surface(xx2,yy2,z2, color = \"blue\", alpha = 0.01 )\n",
    "ax.legend()"
   ]
  },
  {
   "cell_type": "markdown",
   "metadata": {},
   "source": [
    "###  4.3) regresion por minutos"
   ]
  },
  {
   "cell_type": "code",
   "execution_count": 29,
   "metadata": {},
   "outputs": [],
   "source": [
    "vgt = minutos[\"Voltage\"]\n",
    "intt = minutos[\"Global_intensity\"]\n",
    "grpt = minutos[\"Global_reactive_power\"]\n",
    "gapt = minutos[\"Global_active_power\"]"
   ]
  },
  {
   "cell_type": "markdown",
   "metadata": {},
   "source": [
    "### 4.3.1) Modelo 1"
   ]
  },
  {
   "cell_type": "code",
   "execution_count": 30,
   "metadata": {},
   "outputs": [
    {
     "data": {
      "text/plain": [
       "array([[ 3.46180362e-10, -1.55034856e-09],\n",
       "       [-1.55034856e-09,  1.22472325e-08]])"
      ]
     },
     "execution_count": 30,
     "metadata": {},
     "output_type": "execute_result"
    }
   ],
   "source": [
    "modelot1,covt1 = curve_fit(f,intt,gapt)\n",
    "covt1"
   ]
  },
  {
   "cell_type": "code",
   "execution_count": 31,
   "metadata": {},
   "outputs": [
    {
     "data": {
      "text/plain": [
       "<matplotlib.legend.Legend at 0x183a4f40>"
      ]
     },
     "execution_count": 31,
     "metadata": {},
     "output_type": "execute_result"
    },
    {
     "data": {
      "image/png": "[encoded data removed]",
      "text/plain": [
       "<Figure size 432x288 with 1 Axes>"
      ]
     },
     "metadata": {
      "needs_background": "light"
     },
     "output_type": "display_data"
    }
   ],
   "source": [
    "plt.scatter(intt,gapt, label = \"datos diarios\")\n",
    "plt.plot(intt,f(intt, *modelot1),\"r\", label = \"modelo 1\")\n",
    "plt.title(\"Modelo 1 con regresion por minutos\")\n",
    "plt.legend()"
   ]
  },
  {
   "cell_type": "markdown",
   "metadata": {},
   "source": [
    "### 4.3.2) Modelo 2"
   ]
  },
  {
   "cell_type": "code",
   "execution_count": 32,
   "metadata": {},
   "outputs": [
    {
     "data": {
      "text/plain": [
       "array([[ 1.93757045e-07, -4.67953331e-05],\n",
       "       [-4.67953331e-05,  1.13033742e-02]])"
      ]
     },
     "execution_count": 32,
     "metadata": {},
     "output_type": "execute_result"
    }
   ],
   "source": [
    "modelot2,covt2 = curve_fit(g,vgt,gapt)\n",
    "covt2"
   ]
  },
  {
   "cell_type": "code",
   "execution_count": 33,
   "metadata": {},
   "outputs": [
    {
     "data": {
      "text/plain": [
       "Text(0.5, 1.0, 'Modelo 2 con su regresión por minutos')"
      ]
     },
     "execution_count": 33,
     "metadata": {},
     "output_type": "execute_result"
    },
    {
     "data": {
      "image/png": "[encoded data removed]",
      "text/plain": [
       "<Figure size 432x288 with 1 Axes>"
      ]
     },
     "metadata": {
      "needs_background": "light"
     },
     "output_type": "display_data"
    }
   ],
   "source": [
    "plt.scatter(vgt,gapt, label = \"datos por minuto\")\n",
    "plt.plot(vgt,g(vgt, *modelot2),\"r\",label = \"modelo 2\")\n",
    "plt.legend()\n",
    "plt.title(\"Modelo 2 con su regresión por minutos\")"
   ]
  },
  {
   "cell_type": "markdown",
   "metadata": {},
   "source": [
    "### 4.3.3) Modelo 3"
   ]
  },
  {
   "cell_type": "code",
   "execution_count": 34,
   "metadata": {},
   "outputs": [
    {
     "data": {
      "text/plain": [
       "array([ 0.23947996,  0.00466923, -1.13918528])"
      ]
     },
     "execution_count": 34,
     "metadata": {},
     "output_type": "execute_result"
    }
   ],
   "source": [
    "modelot3, covt3 = curve_fit(h,(intt,vgt),gapt)\n",
    "modelot3"
   ]
  },
  {
   "cell_type": "markdown",
   "metadata": {},
   "source": [
    "Para los minutos (457395 datos), el comando np.meshgrid no nos ejecuto  debido en un error relacionada a la cantidad de memoria necesaria para realizar la operacion "
   ]
  },
  {
   "cell_type": "code",
   "execution_count": 35,
   "metadata": {},
   "outputs": [
    {
     "data": {
      "text/plain": [
       "[<mpl_toolkits.mplot3d.art3d.Line3D at 0x9bb0a60>]"
      ]
     },
     "execution_count": 35,
     "metadata": {},
     "output_type": "execute_result"
    },
    {
     "data": {
      "image/png": "[encoded data removed]",
      "text/plain": [
       "<Figure size 432x288 with 1 Axes>"
      ]
     },
     "metadata": {
      "needs_background": "light"
     },
     "output_type": "display_data"
    }
   ],
   "source": [
    "fig = plt.figure()\n",
    "ax = Axes3D(fig)\n",
    "\n",
    "ax.scatter(intt,vgt,gapt,c = \"b\")\n",
    "ax.plot(intt,vgt,h((intt,vgt), *modelot3),c =\"r\")"
   ]
  },
  {
   "cell_type": "markdown",
   "metadata": {},
   "source": [
    "###  4.4) Comparación "
   ]
  },
  {
   "cell_type": "markdown",
   "metadata": {},
   "source": [
    "Para este analisis tomaremos la matriz de covarianza dada por curve_fit() y miraremos cual de todas es la que es menor para notar cual es la que mejor se ajusta "
   ]
  },
  {
   "cell_type": "code",
   "execution_count": 36,
   "metadata": {},
   "outputs": [
    {
     "data": {
      "text/plain": [
       "(6.532130244338177e-06, 3.6052411086630155e-07, 3.461803617242397e-10)"
      ]
     },
     "execution_count": 36,
     "metadata": {},
     "output_type": "execute_result"
    }
   ],
   "source": [
    "#diagonales del primer modelo\n",
    "np.min(np.diag(cov1)),np.min(np.diag(cov1d)),np.min(np.diag(covt1))"
   ]
  },
  {
   "cell_type": "code",
   "execution_count": 37,
   "metadata": {},
   "outputs": [
    {
     "data": {
      "text/plain": [
       "(0.003594001958413927, 0.00015318930613452054, 1.9375704489434684e-07)"
      ]
     },
     "execution_count": 37,
     "metadata": {},
     "output_type": "execute_result"
    }
   ],
   "source": [
    "#diagonales del segundo modelo\n",
    "np.min(np.diag(cov2)),np.min(np.diag(cov2d)),np.min(np.diag(covt2))"
   ]
  },
  {
   "cell_type": "code",
   "execution_count": 38,
   "metadata": {},
   "outputs": [
    {
     "data": {
      "text/plain": [
       "(5.819624477345773e-06, 1.9016637641134477e-07, 3.982782079433003e-10)"
      ]
     },
     "execution_count": 38,
     "metadata": {},
     "output_type": "execute_result"
    }
   ],
   "source": [
    "#diagonales del tercer modelo\n",
    "np.min(np.diag(cov3)),np.min(np.diag(cov3d)),np.min(np.diag(covt3))"
   ]
  },
  {
   "cell_type": "code",
   "execution_count": 39,
   "metadata": {},
   "outputs": [],
   "source": [
    "def e1(e,x):\n",
    "    return e / np.sqrt(x)"
   ]
  },
  {
   "cell_type": "code",
   "execution_count": 40,
   "metadata": {},
   "outputs": [],
   "source": [
    "em1m = e1(np.min(np.diag(cov1)),12)\n",
    "em2m = e1(np.min(np.diag(cov2)),12)\n",
    "em3m = e1(np.min(np.diag(cov3)),12)"
   ]
  },
  {
   "cell_type": "code",
   "execution_count": 41,
   "metadata": {},
   "outputs": [
    {
     "data": {
      "text/plain": [
       "3.238125678920386e-07"
      ]
     },
     "execution_count": 41,
     "metadata": {},
     "output_type": "execute_result"
    }
   ],
   "source": [
    "em1d = e1(np.min(np.diag(cov1d)),323)\n",
    "em2d = e1(np.min(np.diag(cov2d)),323)\n",
    "em3d = e1(np.min(np.diag(cov3)),323)\n",
    "em3d"
   ]
  },
  {
   "cell_type": "code",
   "execution_count": 42,
   "metadata": {},
   "outputs": [],
   "source": [
    "em1t = e1(np.min(np.diag(covt1)),457395)\n",
    "em2t = e1(np.min(np.diag(covt2)),457395)\n",
    "em3t = e1(np.min(np.diag(covt3)),457395)"
   ]
  },
  {
   "cell_type": "code",
   "execution_count": 43,
   "metadata": {},
   "outputs": [
    {
     "data": {
      "text/plain": [
       "(1.8856635774751712e-06, 0.0010374989990791616, 1.6799808792890587e-06)"
      ]
     },
     "execution_count": 43,
     "metadata": {},
     "output_type": "execute_result"
    }
   ],
   "source": [
    "em1m,em2m,em3m"
   ]
  },
  {
   "cell_type": "code",
   "execution_count": 44,
   "metadata": {},
   "outputs": [
    {
     "data": {
      "text/plain": [
       "(2.0060098135379205e-08, 8.523681001431642e-06, 3.238125678920386e-07)"
      ]
     },
     "execution_count": 44,
     "metadata": {},
     "output_type": "execute_result"
    }
   ],
   "source": [
    "em1d,em2d,em3d"
   ]
  },
  {
   "cell_type": "code",
   "execution_count": 45,
   "metadata": {},
   "outputs": [
    {
     "data": {
      "text/plain": [
       "(5.11866516097793e-13, 2.8649153593084513e-10, 5.888990285936682e-13)"
      ]
     },
     "execution_count": 45,
     "metadata": {},
     "output_type": "execute_result"
    }
   ],
   "source": [
    "em1t,em2t,em3t"
   ]
  },
  {
   "attachments": {
    "image-2.png": {
     "image/png": "[encoded data removed]"
    }
   },
   "cell_type": "markdown",
   "metadata": {},
   "source": [
    "![image-2.png](attachment:image-2.png)"
   ]
  },
  {
   "cell_type": "markdown",
   "metadata": {},
   "source": [
    "## 5) Conclusiones"
   ]
  },
  {
   "cell_type": "markdown",
   "metadata": {},
   "source": [
    "A partir de los datos numericos obtenidos, podemos denotar que el error minimo se obtuvo en el modelo 3. Tambien se puede destacar que cuando hay una gran cantidad de datos hay menor error como es el caso de los minutos, mientras que si se realiza con el resampleo de los meses, se obtiene un error mucho mayor. Podemos ver que la  relacion mas inexacta es la del Modelo 2. \n",
    "Cabe aclarar que esto tambien se puede comprobar de manera grafica."
   ]
  },
  {
   "attachments": {},
   "cell_type": "markdown",
   "metadata": {},
   "source": [
    "\n"
   ]
  }
 ],
 "metadata": {
  "interpreter": {
   "hash": "8da01e5a71448ea74f54d88afa8911010d1d12e23bc7e103d40d5def4a09152c"
  },
  "kernelspec": {
   "display_name": "Python 3",
   "language": "python",
   "name": "python3"
  },
  "language_info": {
   "codemirror_mode": {
    "name": "ipython",
    "version": 3
   },
   "file_extension": ".py",
   "mimetype": "text/x-python",
   "name": "python",
   "nbconvert_exporter": "python",
   "pygments_lexer": "ipython3",
   "version": "3.8.8"
  }
 },
 "nbformat": 4,
 "nbformat_minor": 2
}
